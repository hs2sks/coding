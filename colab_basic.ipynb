{
  "nbformat": 4,
  "nbformat_minor": 0,
  "metadata": {
    "colab": {
      "name": "colab_basic.ipynb",
      "provenance": [],
      "collapsed_sections": [
        "KWiDzL8pAPm1"
      ],
      "authorship_tag": "ABX9TyMVI64dBPJgWA9SJwsAbvEj",
      "include_colab_link": true
    },
    "kernelspec": {
      "name": "python3",
      "display_name": "Python 3"
    }
  },
  "cells": [
    {
      "cell_type": "markdown",
      "metadata": {
        "id": "view-in-github",
        "colab_type": "text"
      },
      "source": [
        "<a href=\"https://colab.research.google.com/github/hs2sks/coding/blob/master/colab_basic.ipynb\" target=\"_parent\"><img src=\"https://colab.research.google.com/assets/colab-badge.svg\" alt=\"Open In Colab\"/></a>"
      ]
    },
    {
      "cell_type": "markdown",
      "metadata": {
        "id": "rN650Jzw3gpt"
      },
      "source": [
        "# 구글 코랩 기초 사용법\r\n",
        "<h1>HTML도 일부 사용할 수 있음.</h1>\r\n",
        "<h2><strong>코랩 메모장</strong> 사용법 학습 필요</h2>"
      ]
    },
    {
      "cell_type": "markdown",
      "metadata": {
        "id": "KWiDzL8pAPm1"
      },
      "source": [
        "## 마크다운 스타일\r\n",
        "\r\n",
        "마크다운 | 미리보기\r\n",
        "--- | ---\r\n",
        "`**굵게**` | **굵게**\r\n",
        "`*기울임꼴*` or `_기울임꼴_` | *기울임꼴*\r\n",
        "`~~가운데 줄~~` | ~~가운데 줄~~\r\n",
        "`[구글 링크](http://www.google.com)` | [구글링크](http://www.google.com)\r\n",
        "`![이미지](http://www.google.com/images/rss.png)`|![이미지](http://www.google.com/images/rss.png)"
      ]
    },
    {
      "cell_type": "markdown",
      "metadata": {
        "id": "vp6uZSMwDpNQ"
      },
      "source": [
        "### 글씨 제목\r\n",
        "\r\n",
        "```\r\n",
        "# 큰제목\r\n",
        "## 중간제목\r\n",
        "### 마지막 제목\r\n",
        "일반\r\n",
        "```\r\n",
        "\r\n",
        "#큰제목\r\n",
        "## 중간제목\r\n",
        "### 마지막 제목\r\n",
        "일반"
      ]
    },
    {
      "cell_type": "markdown",
      "metadata": {
        "id": "hqgVknfGEUHb"
      },
      "source": [
        "### 뛰어쓰기\r\n",
        "```\r\n",
        ">탭 한번\r\n",
        ">>탭 두번\r\n",
        "```\r\n",
        ">탭 한번\r\n",
        "\r\n",
        ">>탭 두번"
      ]
    },
    {
      "cell_type": "markdown",
      "metadata": {
        "id": "rMuugG1oEtrB"
      },
      "source": [
        "### 순서가 있는 리스트와 없는 리스트\r\n",
        "``` 순서가 있는 리스트\r\n",
        "1. 1\r\n",
        "1. 2\r\n",
        "1. 3\r\n",
        "```\r\n",
        "1. 1\r\n",
        "1. 2\r\n",
        "1. 3\r\n",
        "\r\n",
        "``` 순서가 없는 리스트\r\n",
        "* 1\r\n",
        "* 2\r\n",
        "* 3\r\n",
        "```\r\n",
        "* 1\r\n",
        "* 2\r\n",
        "* 3\r\n"
      ]
    },
    {
      "cell_type": "markdown",
      "metadata": {
        "id": "uzcKVZK5FcKR"
      },
      "source": [
        "### 코드 블록처리\r\n",
        "````\r\n",
        "```python\r\n",
        "print('a')\r\n",
        "```\r\n",
        "````\r\n",
        "```python\r\n",
        "print('a')\r\n",
        "```"
      ]
    },
    {
      "cell_type": "markdown",
      "metadata": {
        "id": "PX56d_EuF57l"
      },
      "source": [
        "### 방정식 표현(LaTeX)\r\n",
        "```mark down\r\n",
        "$y=x^2$\r\n",
        "\r\n",
        "$e^{i\\pi}+1 = 0$\r\n",
        "\r\n",
        "$e^x=\\sum_{i=0}^\\infty \\frac{1}{i!}x^i$\r\n",
        "\r\n",
        "$\\frac{n!}{k!(n-k)!} = {n \\choose k}$\r\n",
        "\r\n",
        "$A_{m,n} =\r\n",
        " \\begin{pmatrix}\r\n",
        "  a_{1,1} & a_{1,2} & \\cdots & a_{1,n} \\\\\r\n",
        "  a_{2,1} & a_{2,2} & \\cdots & a_{2,n} \\\\\r\n",
        "  \\vdots  & \\vdots  & \\ddots & \\vdots  \\\\\r\n",
        "  a_{m,1} & a_{m,2} & \\cdots & a_{m,n}\r\n",
        " \\end{pmatrix}$\r\n",
        "\r\n",
        "```\r\n",
        "\r\n",
        "$y=x^2$\r\n",
        "\r\n",
        "$e^{i\\pi}+1 = 0$\r\n",
        "\r\n",
        "$e^x=\\sum_{i=0}^\\infty \\frac{1}{i!}x^i$\r\n",
        "\r\n",
        "$\\frac{n!}{k!(n-k)!} = {n \\choose k}$\r\n",
        "\r\n",
        "$A_{m,n} =\r\n",
        " \\begin{pmatrix}\r\n",
        "  a_{1,1} & a_{1,2} & \\cdots & a_{1,n} \\\\\r\n",
        "  a_{2,1} & a_{2,2} & \\cdots & a_{2,n} \\\\\r\n",
        "  \\vdots  & \\vdots  & \\ddots & \\vdots  \\\\\r\n",
        "  a_{m,1} & a_{m,2} & \\cdots & a_{m,n}\r\n",
        " \\end{pmatrix}$"
      ]
    },
    {
      "cell_type": "markdown",
      "metadata": {
        "id": "LOLjxVYsIvcg"
      },
      "source": [
        "### 표그리기\r\n",
        "```markdown\r\n",
        "1열 | 2열\r\n",
        "---|---\r\n",
        "1행, 1열 | 1행 2열\r\n",
        "2행, 1열 | 2행 2열\r\n",
        "```\r\n",
        "1열 | 2열\r\n",
        "---|---\r\n",
        "1행, 1열 | 1행 2열\r\n",
        "2행, 1열 | 2행 2열\r\n"
      ]
    },
    {
      "cell_type": "markdown",
      "metadata": {
        "id": "1VadowcLJ8V-"
      },
      "source": [
        "## LaTeX 사용법\r\n",
        "[LaTeX 위키 문서](https://ko.wikipedia.org/wiki/%EC%9C%84%ED%82%A4%EB%B0%B1%EA%B3%BC:TeX_%EB%AC%B8%EB%B2%95)\r\n"
      ]
    },
    {
      "cell_type": "markdown",
      "metadata": {
        "id": "SCv9MOdCTp8k"
      },
      "source": [
        "# 코랩에 라이브러리 설치\n",
        "\n",
        "[코랩설명 링크](https://colab.research.google.com/notebooks/snippets/importing_libraries.ipynb)\n"
      ]
    },
    {
      "cell_type": "markdown",
      "metadata": {
        "id": "XX2KVyn7VUY2"
      },
      "source": [
        "## 대화형 양식\n"
      ]
    },
    {
      "cell_type": "code",
      "metadata": {
        "id": "4NblxTtXVa6z"
      },
      "source": [
        "#@title String fields\n",
        "\n",
        "text = '' #@param{type:'string'}\n",
        "dropdown = '1st option' #@param ['1st option', '2nd optin', '3rd option']\n",
        "text_and_dropdown = '2nd option' #@param ['1st option', '2nd option', '3rd option] {allow-input: true}"
      ],
      "execution_count": null,
      "outputs": []
    },
    {
      "cell_type": "code",
      "metadata": {
        "id": "B5TDcYRqXq4Y"
      },
      "source": [
        "#@title Raw fields\n",
        "\n",
        "raw_input =  1#@param{type:'raw'}\n",
        "raw_dropdown = raw_input #@param [1, 'raw_input','False', 'string']{type:'raw'}"
      ],
      "execution_count": null,
      "outputs": []
    },
    {
      "cell_type": "code",
      "metadata": {
        "colab": {
          "base_uri": "https://localhost:8080/"
        },
        "id": "t9wARr8pY6Qz",
        "outputId": "40c520a7-da41-45da-9d6d-d7bfd20eed0c"
      },
      "source": [
        "#@title Date fields\n",
        "date_input = '2021-01-29' #@param {type:'date'}\n",
        "\n",
        "print(date_input)"
      ],
      "execution_count": null,
      "outputs": [
        {
          "output_type": "stream",
          "text": [
            "2021-01-29\n"
          ],
          "name": "stdout"
        }
      ]
    },
    {
      "cell_type": "code",
      "metadata": {
        "id": "a2qTbMyqa-fd"
      },
      "source": [
        "#@title Number fields\n",
        "number_input = 10.0 #@param {type:\"number\"}\n",
        "number_slider = -0.1 #@param {type:\"slider\", min:-1, max:1, step:0.1}\n",
        "\n",
        "integer_input = 10 #@param {type:\"integer\"}\n",
        "integer_slider = 1 #@param {type:\"slider\", min:0, max:100, step:1}\n",
        "\n",
        "print(number_input)\n",
        "print(number_slider)\n",
        "\n",
        "print(integer_input)\n",
        "print(integer_slider)\n"
      ],
      "execution_count": null,
      "outputs": []
    },
    {
      "cell_type": "code",
      "metadata": {
        "id": "xD4cx6V8bWeR"
      },
      "source": [
        "#@title Boolean fields\n",
        "boolean_checkbox = True #@param {type:\"boolean\"}\n",
        "boolean_dropdown = True #@param [\"False\", \"True\"] {type:\"raw\"}\n",
        "\n",
        "print(boolean_checkbox)\n",
        "print(boolean_dropdown)"
      ],
      "execution_count": null,
      "outputs": []
    },
    {
      "cell_type": "code",
      "metadata": {
        "colab": {
          "base_uri": "https://localhost:8080/"
        },
        "id": "dmFRPreVbXTH",
        "outputId": "67d87218-ae88-45a1-8765-699b0fe439ec"
      },
      "source": [
        "#@title ## Markdown\n",
        "#@markdown You can also include Markdown in forms.\n",
        "\n",
        "#@markdown ---\n",
        "#@markdown ### Enter a file path:\n",
        "file_path = \"\" #@param {type:\"string\"}\n",
        "#@markdown ---\n",
        "\n",
        "print('file_path: '+file_path)"
      ],
      "execution_count": null,
      "outputs": [
        {
          "output_type": "stream",
          "text": [
            "file_path: westray\n"
          ],
          "name": "stdout"
        }
      ]
    },
    {
      "cell_type": "markdown",
      "metadata": {
        "id": "k6B74j_g5iY_"
      },
      "source": [
        "# 외부데이터:로컬, 드라이브, 스프레드시트, Cloud Storage\r\n",
        "> 외부 소스의 데이터를 로드 및 저장하는 방법\r\n",
        "\r\n",
        "* 로컬 파일 시스템\r\n",
        "* Google Drive\r\n",
        "* Google Sheets"
      ]
    },
    {
      "cell_type": "markdown",
      "metadata": {
        "id": "OJdjkLnwsWkR"
      },
      "source": [
        "## 로컬 파일 시스템"
      ]
    },
    {
      "cell_type": "markdown",
      "metadata": {
        "id": "325bKr3osbDG"
      },
      "source": [
        "### 로컬 파일 시스템 파일 업로드\r\n",
        "\r\n",
        "files.upload는 업로드된 파일의 딕셔너리에 반환됨.\r\n",
        "딕셔너리에 업로된 파일 이름에 따라 key가 지정되며, value는 업로드 된 데이터 표시"
      ]
    },
    {
      "cell_type": "code",
      "metadata": {
        "colab": {
          "resources": {
            "http://localhost:8080/nbextensions/google.colab/files.js": {
              "data": "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",
              "ok": true,
              "headers": [
                [
                  "content-type",
                  "application/javascript"
                ]
              ],
              "status": 200,
              "status_text": ""
            }
          },
          "base_uri": "https://localhost:8080/",
          "height": 200
        },
        "id": "UC_90SbmsuYI",
        "outputId": "1354c42e-badb-4248-c5dc-de7f2ffbd66e"
      },
      "source": [
        "from google.colab import files\r\n",
        "\r\n",
        "uploaded = files.upload()\r\n",
        "\r\n",
        "for fn in uploaded.keys():\r\n",
        "    print('업로드 된 파일명은 \"{name}\" 이며 용량은 {length} bytes 입니다.'.format(name=fn, length=len(uploaded[fn])))"
      ],
      "execution_count": null,
      "outputs": [
        {
          "output_type": "display_data",
          "data": {
            "text/html": [
              "\n",
              "     <input type=\"file\" id=\"files-2f2eda49-90cc-4c81-a5b7-efd59e31ee2b\" name=\"files[]\" multiple disabled\n",
              "        style=\"border:none\" />\n",
              "     <output id=\"result-2f2eda49-90cc-4c81-a5b7-efd59e31ee2b\">\n",
              "      Upload widget is only available when the cell has been executed in the\n",
              "      current browser session. Please rerun this cell to enable.\n",
              "      </output>\n",
              "      <script src=\"/nbextensions/google.colab/files.js\"></script> "
            ],
            "text/plain": [
              "<IPython.core.display.HTML object>"
            ]
          },
          "metadata": {
            "tags": []
          }
        },
        {
          "output_type": "stream",
          "text": [
            "Saving practice_quiz3.py to practice_quiz3 (1).py\n",
            "Saving practice_str.py to practice_str (1).py\n",
            "Saving practice_str_format.py to practice_str_format.py\n",
            "업로드 된 파일명은 \"practice_quiz3.py\" 이며 용량은 705 bytes 입니다.\n",
            "업로드 된 파일명은 \"practice_str.py\" 이며 용량은 360 bytes 입니다.\n",
            "업로드 된 파일명은 \"practice_str_format.py\" 이며 용량은 682 bytes 입니다.\n"
          ],
          "name": "stdout"
        }
      ]
    },
    {
      "cell_type": "markdown",
      "metadata": {
        "id": "P15nYZe1t6sF"
      },
      "source": [
        "### 로컬 파일 시스템(사용자 컴퓨터)으로 파일 다운로드\r\n",
        "files.download는 파일의 브라우저 다운로드를 로컬 컴퓨터로 호출합니다."
      ]
    },
    {
      "cell_type": "code",
      "metadata": {
        "colab": {
          "base_uri": "https://localhost:8080/",
          "height": 17
        },
        "id": "SOIDSm8yuDFR",
        "outputId": "b431194e-c51f-4fa3-f4ae-4daae99b3ea9"
      },
      "source": [
        "from google.colab import files\r\n",
        "with open('example.txt', 'w') as f:\r\n",
        "    f.write('some content')\r\n",
        "\r\n",
        "files.download('example.txt')"
      ],
      "execution_count": null,
      "outputs": [
        {
          "output_type": "display_data",
          "data": {
            "application/javascript": [
              "\n",
              "    async function download(id, filename, size) {\n",
              "      if (!google.colab.kernel.accessAllowed) {\n",
              "        return;\n",
              "      }\n",
              "      const div = document.createElement('div');\n",
              "      const label = document.createElement('label');\n",
              "      label.textContent = `Downloading \"${filename}\": `;\n",
              "      div.appendChild(label);\n",
              "      const progress = document.createElement('progress');\n",
              "      progress.max = size;\n",
              "      div.appendChild(progress);\n",
              "      document.body.appendChild(div);\n",
              "\n",
              "      const buffers = [];\n",
              "      let downloaded = 0;\n",
              "\n",
              "      const channel = await google.colab.kernel.comms.open(id);\n",
              "      // Send a message to notify the kernel that we're ready.\n",
              "      channel.send({})\n",
              "\n",
              "      for await (const message of channel.messages) {\n",
              "        // Send a message to notify the kernel that we're ready.\n",
              "        channel.send({})\n",
              "        if (message.buffers) {\n",
              "          for (const buffer of message.buffers) {\n",
              "            buffers.push(buffer);\n",
              "            downloaded += buffer.byteLength;\n",
              "            progress.value = downloaded;\n",
              "          }\n",
              "        }\n",
              "      }\n",
              "      const blob = new Blob(buffers, {type: 'application/binary'});\n",
              "      const a = document.createElement('a');\n",
              "      a.href = window.URL.createObjectURL(blob);\n",
              "      a.download = filename;\n",
              "      div.appendChild(a);\n",
              "      a.click();\n",
              "      div.remove();\n",
              "    }\n",
              "  "
            ],
            "text/plain": [
              "<IPython.core.display.Javascript object>"
            ]
          },
          "metadata": {
            "tags": []
          }
        },
        {
          "output_type": "display_data",
          "data": {
            "application/javascript": [
              "download(\"download_6272edd0-92eb-4a20-8e07-50e84190481a\", \"example.txt\", 12)"
            ],
            "text/plain": [
              "<IPython.core.display.Javascript object>"
            ]
          },
          "metadata": {
            "tags": []
          }
        }
      ]
    },
    {
      "cell_type": "markdown",
      "metadata": {
        "id": "QxT7UC31wXOy"
      },
      "source": [
        "## Google Drive 마운트\r\n",
        "\r\n",
        "구글 드라이브에 있는 파일 액세스 방법은 3가지\r\n",
        "* 런타임 가상 머신에 Google Drive 마운트\r\n",
        "* PyDrive</a>와 같은 API에 래퍼 사용 - 나중에 추가\r\n",
        "* <a href=\"https://developers.google.com/drive/v3/web/about-sdk\">네이티브REST API</a> 사용 - 나중에 추가"
      ]
    },
    {
      "cell_type": "markdown",
      "metadata": {
        "id": "p1-nM5W7xQIQ"
      },
      "source": [
        "### 런타임 가상 머신에 Google Drive 마운트\r\n",
        "* 승인 코드를 사용해 런타임에 Google Drive를 마운트하는 방법\r\n",
        "* 드라이브에서 파일을 쓰고 읽는 방법 안내\r\n",
        "\r\n",
        "이 방법으로는 파일을 읽고, 쓰고, 이동하는 작업만 가능함.\r\n",
        "\r\n",
        "공유 설정이나 기타 메타데이터를 수정하려면 다른 방법을 사용해야 함."
      ]
    },
    {
      "cell_type": "code",
      "metadata": {
        "colab": {
          "base_uri": "https://localhost:8080/"
        },
        "id": "twvY4eLYxsma",
        "outputId": "40bc5f5f-cc40-46e5-d3eb-0ad3cb3cac9f"
      },
      "source": [
        "#마운트 하기\r\n",
        "from google.colab import drive\r\n",
        "drive.mount('/content/drive')"
      ],
      "execution_count": null,
      "outputs": [
        {
          "output_type": "stream",
          "text": [
            "Mounted at /content/drive\n"
          ],
          "name": "stdout"
        }
      ]
    },
    {
      "cell_type": "code",
      "metadata": {
        "id": "w1YEk8UoyPPZ"
      },
      "source": [
        "with open('/content/drive/MyDrive/foo.txt', 'w') as f:\r\n",
        "    f.write('hello Google Drive!')\r\n",
        "!cat /content/drive/MyDrive/foo.txt"
      ],
      "execution_count": null,
      "outputs": []
    },
    {
      "cell_type": "code",
      "metadata": {
        "colab": {
          "base_uri": "https://localhost:8080/"
        },
        "id": "xS09hF3HzDWt",
        "outputId": "9ef6dbc7-9361-4092-ff95-daf2d114e62e"
      },
      "source": [
        "#마운트 해제하기\r\n",
        "drive.flush_and_unmount()\r\n",
        "print('All changes made in this colab session should now be visible in Drive')"
      ],
      "execution_count": null,
      "outputs": [
        {
          "output_type": "stream",
          "text": [
            "All changes made in this colab session should now be visible in Drive\n"
          ],
          "name": "stdout"
        }
      ]
    },
    {
      "cell_type": "markdown",
      "metadata": {
        "id": "3wm0tppt0u77"
      },
      "source": [
        "### Drive REST API\r\n",
        "Drive API를 사용하려면 인증한 다음 API 클라이언트 구성"
      ]
    },
    {
      "cell_type": "code",
      "metadata": {
        "id": "v0yz3uM_1I0Z"
      },
      "source": [
        "from google.colab import auth\r\n",
        "auth.authenticate_user()\r\n",
        "from googleapiclient.discovery import build \r\n",
        "drive_service = build('drive', 'v3')"
      ],
      "execution_count": null,
      "outputs": []
    },
    {
      "cell_type": "markdown",
      "metadata": {
        "id": "IxWoSx-S1wH-"
      },
      "source": [
        "이 클라이언트를 사용하면 <a href=\"https://developers.google.com/drive/v3/reference/\">Google Drive API 참조</a>에 있는 모든 기능을 사용할 수 있습니다."
      ]
    },
    {
      "cell_type": "markdown",
      "metadata": {
        "id": "0iDiDHmj1_xt"
      },
      "source": [
        "### Python 데이터로 새 드라이브 파일 만들기\r\n",
        "먼저 업로드할 로컬 파일을 만듭니다."
      ]
    },
    {
      "cell_type": "code",
      "metadata": {
        "colab": {
          "base_uri": "https://localhost:8080/"
        },
        "id": "-Zht9j2L1-MB",
        "outputId": "65248deb-829c-4234-963a-442ba0dc9f81"
      },
      "source": [
        "with open('/tmp/to_upload.txt', 'w') as f:\r\n",
        "    f.write('my sample files')\r\n",
        "\r\n",
        "print('/tmp/to_upload.txt contanins: ')\r\n",
        "!cat /tmp/to_upload.txt"
      ],
      "execution_count": null,
      "outputs": [
        {
          "output_type": "stream",
          "text": [
            "/tmp/to_upload.txt contanins: \n",
            "my sample files"
          ],
          "name": "stdout"
        }
      ]
    },
    {
      "cell_type": "markdown",
      "metadata": {
        "id": "DPKxksIF24GG"
      },
      "source": [
        "files.create 방식을 사용해 업로드."
      ]
    },
    {
      "cell_type": "code",
      "metadata": {
        "id": "QbQ53s1r29d2"
      },
      "source": [
        "from googleapiclient.http import MediaFileUpload\r\n",
        "\r\n",
        "file_metadata = {\r\n",
        "    'name': 'Sample file',\r\n",
        "    'mimeType': 'text/plain'\r\n",
        "}\r\n",
        "\r\n",
        "media = MediaFileUpload('/tmp/to_upload.txt', mimetype = 'text/plain', resumable = True)\r\n",
        "created = drive_service.files().create(body=file_metadata, media_body=media, fields='id').execute()\r\n",
        "print('File ID: {}'.format(created.get('id')))"
      ],
      "execution_count": null,
      "outputs": []
    },
    {
      "cell_type": "code",
      "metadata": {
        "colab": {
          "base_uri": "https://localhost:8080/"
        },
        "id": "hEzpzWYWsYKg",
        "outputId": "55085544-a039-431a-e097-b472dd2156ce"
      },
      "source": [
        "file_id = created.get('id')\n",
        "\n",
        "import io\n",
        "from googleapiclient.http import MediaIoBaseDownload\n",
        "\n",
        "request = drive_service.files().get_media(fileId=file_id)\n",
        "downloaded = io.BytesIO()\n",
        "downloader = MediaIoBaseDownload(downloaded, request)\n",
        "done = False\n",
        "while done is False:\n",
        "  # _ is a placeholder for a progress object that we ignore.\n",
        "  # (Our file is small, so we skip reporting progress.)\n",
        "  _, done = downloader.next_chunk()\n",
        "\n",
        "downloaded.seek(0)\n",
        "print('Downloaded file contents are: {}'.format(downloaded.read()))"
      ],
      "execution_count": null,
      "outputs": [
        {
          "output_type": "stream",
          "text": [
            "Downloaded file contents are: b'my sample files'\n"
          ],
          "name": "stdout"
        }
      ]
    },
    {
      "cell_type": "markdown",
      "metadata": {
        "id": "4xUOdMLp5Nca"
      },
      "source": [
        "## Google Sheets\r\n",
        "\r\n",
        "오픈소스 <a href=\"https://github.com/burnash/gspread\"><code>gspread</code></a>  라이브러리를 사용해 Google Sheets와 상호작용하기"
      ]
    },
    {
      "cell_type": "code",
      "metadata": {
        "id": "rNmk91M75kIF"
      },
      "source": [
        "#pip 명령어를 사용해 패키지 설치하기\r\n",
        "!pip install --upgrade gspread"
      ],
      "execution_count": null,
      "outputs": []
    },
    {
      "cell_type": "code",
      "metadata": {
        "id": "cAD92EAY5w2v"
      },
      "source": [
        "#라이브러리를 가져오고 인증한 다음 스프레드시트에 인터페이스 제작\r\n",
        "from google.colab import auth\r\n",
        "auth.authenticate_user()\r\n",
        "\r\n",
        "import gspread\r\n",
        "from oauth2client.client import GoogleCredentials\r\n",
        "\r\n",
        "gc = gspread.authorize(GoogleCredentials.get_application_default())"
      ],
      "execution_count": null,
      "outputs": []
    },
    {
      "cell_type": "markdown",
      "metadata": {
        "id": "rjdzcIBJ62VG"
      },
      "source": [
        "### Python 데이터로 새 시트 만들기"
      ]
    },
    {
      "cell_type": "code",
      "metadata": {
        "id": "T7UcN2Av66Py"
      },
      "source": [
        "sh = gc.create('My cool spreadsheet')"
      ],
      "execution_count": null,
      "outputs": []
    },
    {
      "cell_type": "code",
      "metadata": {
        "id": "PuAE1_ei72Pi"
      },
      "source": [
        "worksheet = gc.open('My cool spreadsheet').sheet1\r\n",
        "\r\n",
        "cell_list = worksheet.range('A1:C2')\r\n",
        "\r\n",
        "import random\r\n",
        "for cell in cell_list:\r\n",
        "    cell.value = random.randint(1, 10)\r\n",
        "\r\n",
        "worksheet.update_cells(cell_list)"
      ],
      "execution_count": null,
      "outputs": []
    },
    {
      "cell_type": "markdown",
      "metadata": {
        "id": "5Svzsez68Vrs"
      },
      "source": [
        "### 시트의 데이터를 Pandas DataFrame으로 Python 다운로드\r\n",
        "\r\n",
        "위에서 삽입한 무작위 데이터를 다시 읽고 결과를 Pandas DataFrame으로 변환"
      ]
    },
    {
      "cell_type": "code",
      "metadata": {
        "colab": {
          "base_uri": "https://localhost:8080/",
          "height": 129
        },
        "id": "goepW-5X8iwU",
        "outputId": "3c1bdc06-e3dd-4b41-b36c-537adadb0a39"
      },
      "source": [
        "worksheet = gc.open('My cool spreadsheet').sheet1\r\n",
        "\r\n",
        "#get_all_values gives a list of rows.\r\n",
        "rows = worksheet.get_all_values()\r\n",
        "print(rows)\r\n",
        "\r\n",
        "import pandas as pd\r\n",
        "pd.DataFrame.from_records(rows)\r\n"
      ],
      "execution_count": null,
      "outputs": [
        {
          "output_type": "stream",
          "text": [
            "[['9', '3', '5'], ['2', '6', '8']]\n"
          ],
          "name": "stdout"
        },
        {
          "output_type": "execute_result",
          "data": {
            "text/html": [
              "<div>\n",
              "<style scoped>\n",
              "    .dataframe tbody tr th:only-of-type {\n",
              "        vertical-align: middle;\n",
              "    }\n",
              "\n",
              "    .dataframe tbody tr th {\n",
              "        vertical-align: top;\n",
              "    }\n",
              "\n",
              "    .dataframe thead th {\n",
              "        text-align: right;\n",
              "    }\n",
              "</style>\n",
              "<table border=\"1\" class=\"dataframe\">\n",
              "  <thead>\n",
              "    <tr style=\"text-align: right;\">\n",
              "      <th></th>\n",
              "      <th>0</th>\n",
              "      <th>1</th>\n",
              "      <th>2</th>\n",
              "    </tr>\n",
              "  </thead>\n",
              "  <tbody>\n",
              "    <tr>\n",
              "      <th>0</th>\n",
              "      <td>9</td>\n",
              "      <td>3</td>\n",
              "      <td>5</td>\n",
              "    </tr>\n",
              "    <tr>\n",
              "      <th>1</th>\n",
              "      <td>2</td>\n",
              "      <td>6</td>\n",
              "      <td>8</td>\n",
              "    </tr>\n",
              "  </tbody>\n",
              "</table>\n",
              "</div>"
            ],
            "text/plain": [
              "   0  1  2\n",
              "0  9  3  5\n",
              "1  2  6  8"
            ]
          },
          "metadata": {
            "tags": []
          },
          "execution_count": 31
        }
      ]
    }
  ]
}